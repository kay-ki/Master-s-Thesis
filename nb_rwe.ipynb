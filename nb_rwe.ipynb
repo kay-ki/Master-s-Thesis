{
 "cells": [
  {
   "cell_type": "code",
   "execution_count": 14,
   "id": "cd47ca9e-eb5a-4811-83bf-d8d4032884c3",
   "metadata": {
    "execution": {
     "iopub.execute_input": "2023-08-27T20:18:01.351234Z",
     "iopub.status.busy": "2023-08-27T20:18:01.350847Z",
     "iopub.status.idle": "2023-08-27T20:18:01.354464Z",
     "shell.execute_reply": "2023-08-27T20:18:01.353830Z",
     "shell.execute_reply.started": "2023-08-27T20:18:01.351207Z"
    },
    "tags": []
   },
   "outputs": [],
   "source": [
    "import pandas as pd"
   ]
  },
  {
   "cell_type": "code",
   "execution_count": 15,
   "id": "cc7c7077-d028-404d-8777-ea846608dc88",
   "metadata": {
    "execution": {
     "iopub.execute_input": "2023-08-27T20:18:01.362281Z",
     "iopub.status.busy": "2023-08-27T20:18:01.362032Z",
     "iopub.status.idle": "2023-08-27T20:18:01.394290Z",
     "shell.execute_reply": "2023-08-27T20:18:01.393686Z",
     "shell.execute_reply.started": "2023-08-27T20:18:01.362262Z"
    },
    "tags": []
   },
   "outputs": [
    {
     "data": {
      "text/plain": [
       "Index(['caseID', 'date', 'state', 'state1', 'state2', 'location', 'location1',\n",
       "       'location2', 'location3', 'location4', 'lon1', 'lat1', 'lon2', 'lat2',\n",
       "       'lon3', 'lat3', 'lon4', 'lat4', 'district', 'participants', 'organizer',\n",
       "       'classification', 'ideology', 'motto', 'source'],\n",
       "      dtype='object')"
      ]
     },
     "execution_count": 15,
     "metadata": {},
     "output_type": "execute_result"
    }
   ],
   "source": [
    "df = pd.read_stata(\"rwe_data.dta\")\n",
    "df.columns"
   ]
  },
  {
   "cell_type": "code",
   "execution_count": 16,
   "id": "d4e4e99e-5b3a-4c52-af77-fa0d39fa5875",
   "metadata": {
    "execution": {
     "iopub.execute_input": "2023-08-27T20:18:01.396252Z",
     "iopub.status.busy": "2023-08-27T20:18:01.395690Z",
     "iopub.status.idle": "2023-08-27T20:18:01.407123Z",
     "shell.execute_reply": "2023-08-27T20:18:01.406588Z",
     "shell.execute_reply.started": "2023-08-27T20:18:01.396220Z"
    },
    "tags": []
   },
   "outputs": [
    {
     "data": {
      "text/plain": [
       "Nordrhein-Westfalen         512\n",
       "Thüringen                   449\n",
       "Sachsen                     422\n",
       "Bayern                      354\n",
       "Berlin                      329\n",
       "Sachsen-Anhalt              301\n",
       "Brandenburg                 222\n",
       "Mecklenburg-Vorpommern      182\n",
       "Rheinland-Pfalz             145\n",
       "Baden-Württemberg           106\n",
       "Niedersachsen               101\n",
       "Hessen                       52\n",
       "Schleswig-Holstein           49\n",
       "Hamburg                      34\n",
       "Saarland                     23\n",
       "Bremen                        7\n",
       "Rheinland-Pfalz/Saarland      2\n",
       "Name: state, dtype: int64"
      ]
     },
     "execution_count": 16,
     "metadata": {},
     "output_type": "execute_result"
    }
   ],
   "source": [
    "def convert_state_abbreviations(data_series):\n",
    "    state_map = {\n",
    "        'NW': 'Nordrhein-Westfalen',\n",
    "        'TH': 'Thüringen',\n",
    "        'SN': 'Sachsen',\n",
    "        'BY': 'Bayern',\n",
    "        'BE': 'Berlin',\n",
    "        'ST': 'Sachsen-Anhalt',\n",
    "        'BB': 'Brandenburg',\n",
    "        'MV': 'Mecklenburg-Vorpommern',\n",
    "        'RP': 'Rheinland-Pfalz',\n",
    "        'BW': 'Baden-Württemberg',\n",
    "        'NI': 'Niedersachsen',\n",
    "        'HE': 'Hessen',\n",
    "        'SH': 'Schleswig-Holstein',\n",
    "        'HH': 'Hamburg',\n",
    "        'SL': 'Saarland',\n",
    "        'HB': 'Bremen',\n",
    "        'RP/SL': 'Rheinland-Pfalz/Saarland'\n",
    "    }\n",
    "    \n",
    "    return data_series.map(state_map)\n",
    "\n",
    "df.state = convert_state_abbreviations(df.state)\n",
    "df.state.value_counts()"
   ]
  },
  {
   "cell_type": "code",
   "execution_count": 17,
   "id": "506562c6-bd20-4e2c-bc0c-f19d24ba1715",
   "metadata": {
    "execution": {
     "iopub.execute_input": "2023-08-27T20:18:01.408394Z",
     "iopub.status.busy": "2023-08-27T20:18:01.407888Z",
     "iopub.status.idle": "2023-08-27T20:18:01.431745Z",
     "shell.execute_reply": "2023-08-27T20:18:01.431069Z",
     "shell.execute_reply.started": "2023-08-27T20:18:01.408373Z"
    },
    "tags": []
   },
   "outputs": [
    {
     "name": "stdout",
     "output_type": "stream",
     "text": [
      "     syear                     state  total_participants  num_observations\n",
      "0     2005            Sachsen-Anhalt              3865.0                19\n",
      "1     2005       Nordrhein-Westfalen              3236.0                30\n",
      "2     2005                    Berlin              5255.0                17\n",
      "3     2005               Brandenburg              2570.0                 8\n",
      "4     2005         Baden-Württemberg              1280.0                 9\n",
      "..     ...                       ...                 ...               ...\n",
      "267   2020  Rheinland-Pfalz/Saarland                 0.0                 0\n",
      "268   2020        Schleswig-Holstein                 0.0                 0\n",
      "269   2020                  Saarland                 0.0                 0\n",
      "270   2020                   Sachsen              8615.0                15\n",
      "271   2020                 Thüringen                30.0                 1\n",
      "\n",
      "[272 rows x 4 columns]\n"
     ]
    }
   ],
   "source": [
    "df['date'] = pd.to_datetime(df['date'])\n",
    "\n",
    "df['syear'] = df['date'].dt.year\n",
    "\n",
    "result = df.groupby(['syear', 'state']).agg(\n",
    "    rwe_participants=pd.NamedAgg(column='participants', aggfunc='sum'),\n",
    "    num_observations=pd.NamedAgg(column='caseID', aggfunc='count')\n",
    ").reset_index()\n",
    "\n",
    "print(result)\n"
   ]
  },
  {
   "cell_type": "code",
   "execution_count": 18,
   "id": "dc1063da-0f2f-4e5c-ba70-624c382d9d46",
   "metadata": {
    "execution": {
     "iopub.execute_input": "2023-08-27T20:18:01.433792Z",
     "iopub.status.busy": "2023-08-27T20:18:01.433233Z",
     "iopub.status.idle": "2023-08-27T20:18:01.439576Z",
     "shell.execute_reply": "2023-08-27T20:18:01.439038Z",
     "shell.execute_reply.started": "2023-08-27T20:18:01.433761Z"
    },
    "tags": []
   },
   "outputs": [],
   "source": [
    "result.to_parquet(\"rwe.gzip\")"
   ]
  }
 ],
 "metadata": {
  "kernelspec": {
   "display_name": "saturn (Python 3)",
   "language": "python",
   "name": "python3"
  },
  "language_info": {
   "codemirror_mode": {
    "name": "ipython",
    "version": 3
   },
   "file_extension": ".py",
   "mimetype": "text/x-python",
   "name": "python",
   "nbconvert_exporter": "python",
   "pygments_lexer": "ipython3",
   "version": "3.9.15"
  }
 },
 "nbformat": 4,
 "nbformat_minor": 5
}
